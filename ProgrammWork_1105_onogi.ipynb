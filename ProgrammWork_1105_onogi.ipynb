{
  "nbformat": 4,
  "nbformat_minor": 0,
  "metadata": {
    "colab": {
      "name": "ProgrammWork_1105_onogi.ipynb",
      "provenance": [],
      "authorship_tag": "ABX9TyMv3Q0lf10W4dVfmxc6XnxY",
      "include_colab_link": true
    },
    "kernelspec": {
      "name": "python3",
      "display_name": "Python 3"
    }
  },
  "cells": [
    {
      "cell_type": "markdown",
      "metadata": {
        "id": "view-in-github",
        "colab_type": "text"
      },
      "source": [
        "<a href=\"https://colab.research.google.com/github/Onogi-Fumiya/HelloGit/blob/master/ProgrammWork_1105_onogi.ipynb\" target=\"_parent\"><img src=\"https://colab.research.google.com/assets/colab-badge.svg\" alt=\"Open In Colab\"/></a>"
      ]
    },
    {
      "cell_type": "code",
      "metadata": {
        "id": "CL07PB71lcku"
      },
      "source": [
        "import networkx as nx\n",
        "import matplotlib.pyplot as plt"
      ],
      "execution_count": null,
      "outputs": []
    },
    {
      "cell_type": "code",
      "metadata": {
        "id": "yB4hTMIK1Ial"
      },
      "source": [
        "def show_graph(G):\n",
        "  layout=nx.spring_layout(G)\n",
        "  nx.draw(G,layout)\n",
        "  nx.draw_networkx_labels(G,layout)\n",
        "  plt.show()"
      ],
      "execution_count": null,
      "outputs": []
    },
    {
      "cell_type": "code",
      "metadata": {
        "id": "pNbhuBVOoPOx",
        "outputId": "2bc82b5b-e909-47b8-9491-f9c4d377e66c",
        "colab": {
          "base_uri": "https://localhost:8080/",
          "height": 319
        }
      },
      "source": [
        "edges = [(0,1),(0,3),(1,3),(3,5),(0,5),(2,4),(2,7),(2,8),(4,7),(7,8),(4,8),(6,9)]\n",
        "G = nx.DiGraph(edges)\n",
        "show_graph(G)"
      ],
      "execution_count": null,
      "outputs": [
        {
          "output_type": "display_data",
          "data": {
            "image/png": "[encoded data removed]",
            "text/plain": [
              "<Figure size 432x288 with 1 Axes>"
            ]
          },
          "metadata": {
            "tags": []
          }
        }
      ]
    },
    {
      "cell_type": "markdown",
      "metadata": {
        "id": "WeKoTLWb1io_"
      },
      "source": [
        "課題1：PathExistence(G,s,t) Algorithmを実装せよ"
      ]
    },
    {
      "cell_type": "code",
      "metadata": {
        "id": "zKk4QHXdoDo0"
      },
      "source": [
        "def PathExistence (G, s, t):\n",
        "  state = 'unknown'\n",
        "  for n in G.nodes():\n",
        "    G.nodes[n]['flag'] = 'unarrived'\n",
        "  G.nodes[s]['flag'] = 'arrived'\n",
        "  while(1):\n",
        "    for u, v in G.edges():\n",
        "      if G.nodes[u]['flag']=='arrived' and G.nodes[v]['flag']=='unarrived':\n",
        "        G.nodes[v]['flag'] ='arrived'\n",
        "    if G.nodes[t]['flag']=='arrived':\n",
        "      state = 'yes'\n",
        "      break\n",
        "    else:\n",
        "      state = 'no'\n",
        "      break\n",
        "  return state"
      ],
      "execution_count": null,
      "outputs": []
    },
    {
      "cell_type": "code",
      "metadata": {
        "id": "jL7J-MnjqWoM",
        "outputId": "c880eb33-bab7-4d96-d7f9-edf0d6cf898a",
        "colab": {
          "base_uri": "https://localhost:8080/"
        }
      },
      "source": [
        "print(PathExistence(G, 0, 6))\n",
        "print(PathExistence(G, 1, 5))\n",
        "print(PathExistence(G, 9, 6))\n",
        "print(PathExistence(G, 6, 9))"
      ],
      "execution_count": null,
      "outputs": [
        {
          "output_type": "stream",
          "text": [
            "no\n",
            "yes\n",
            "no\n",
            "yes\n"
          ],
          "name": "stdout"
        }
      ]
    },
    {
      "cell_type": "markdown",
      "metadata": {
        "id": "Ezfx_FcN1-v0"
      },
      "source": [
        "課題2：無向グラフが与えられたときに、s-t-パスが存在するとき1を返すアルゴリズムの発見せよ"
      ]
    },
    {
      "cell_type": "markdown",
      "metadata": {
        "id": "QZJ6oWk64Vgj"
      },
      "source": [
        "方針1：力任せ探索アルゴリズムより、効率的であるPathExistence アルゴリズムを用いる。\n",
        "\n",
        "方針2：上記のアルゴリズムの返り値を'yes'から1に変更する。\n",
        "\n"
      ]
    },
    {
      "cell_type": "code",
      "metadata": {
        "id": "7I2tLoFN16ZF"
      },
      "source": [
        "def PathExistence2 (G, s, t):\n",
        "  state = 'unknown'\n",
        "  for n in G.nodes():\n",
        "    G.nodes[n]['flag'] = 'unarrived'\n",
        "  G.nodes[s]['flag'] = 'arrived'\n",
        "  while(1):\n",
        "    for u, v in G.edges():\n",
        "      if G.nodes[u]['flag']=='arrived' and G.nodes[v]['flag']=='unarrived':\n",
        "        G.nodes[v]['flag'] ='arrived'\n",
        "    if G.nodes[t]['flag']=='arrived':\n",
        "      state = 1\n",
        "      break\n",
        "    else:\n",
        "      state = 0\n",
        "      break\n",
        "  return state"
      ],
      "execution_count": null,
      "outputs": []
    },
    {
      "cell_type": "code",
      "metadata": {
        "id": "qi_Eal622bh9"
      },
      "source": [
        "H = nx.Graph(edges)"
      ],
      "execution_count": null,
      "outputs": []
    },
    {
      "cell_type": "code",
      "metadata": {
        "id": "e4WGKbp32gcB",
        "outputId": "d80333e7-7d40-44e5-d763-fadbbda31a13",
        "colab": {
          "base_uri": "https://localhost:8080/"
        }
      },
      "source": [
        "print(PathExistence2(H, 0, 6))\n",
        "print(PathExistence2(H, 1, 5))\n",
        "print(PathExistence2(H, 9, 6))\n",
        "print(PathExistence2(H, 6, 9))"
      ],
      "execution_count": null,
      "outputs": [
        {
          "output_type": "stream",
          "text": [
            "0\n",
            "1\n",
            "0\n",
            "1\n"
          ],
          "name": "stdout"
        }
      ]
    },
    {
      "cell_type": "markdown",
      "metadata": {
        "id": "ATQwbHUs3M1k"
      },
      "source": [
        "課題3：有向グラフと s, t が与えられたとき、s-t-パスがユニークパスであるかどうか確認するプログラムを書け"
      ]
    },
    {
      "cell_type": "code",
      "metadata": {
        "id": "tCBoiGyR6hrM"
      },
      "source": [
        "def PathExistence3 (G, s, t):\n",
        "  state = 'unknown'\n",
        "  pathlist = []\n",
        "  for n in G.nodes():\n",
        "    G.nodes[n]['flag'] = 'unarrived'\n",
        "  G.nodes[s]['flag'] = 'arrived'\n",
        "  pathlist.append(s)\n",
        "  for u, v in G.edges():\n",
        "    if G.nodes[u]['flag']=='arrived' and G.nodes[v]['flag']=='unarrived':\n",
        "      G.nodes[v]['flag'] ='arrived'\n",
        "      pathlist.append(v)\n",
        "  if G.nodes[t]['flag']=='arrived':\n",
        "    return pathlist\n",
        "  else:\n",
        "    state = 'none'\n",
        "    return state"
      ],
      "execution_count": null,
      "outputs": []
    },
    {
      "cell_type": "code",
      "metadata": {
        "id": "tgfmY1G77FJL",
        "outputId": "fac6db78-e0cb-4186-f140-76478b01738b",
        "colab": {
          "base_uri": "https://localhost:8080/"
        }
      },
      "source": [
        "print(PathExistence3(G, 0, 5))"
      ],
      "execution_count": null,
      "outputs": [
        {
          "output_type": "stream",
          "text": [
            "[0, 1, 3, 5]\n"
          ],
          "name": "stdout"
        }
      ]
    },
    {
      "cell_type": "code",
      "metadata": {
        "id": "Od8qgTwD-p0Z",
        "outputId": "4b0ded2e-eac7-410c-eb7c-7d92db78e23b",
        "colab": {
          "base_uri": "https://localhost:8080/"
        }
      },
      "source": [
        "print(PathExistence3(G, 4, 8))"
      ],
      "execution_count": null,
      "outputs": [
        {
          "output_type": "stream",
          "text": [
            "[4, 7, 8]\n"
          ],
          "name": "stdout"
        }
      ]
    }
  ]
}